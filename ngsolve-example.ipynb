{
 "cells": [
  {
   "cell_type": "code",
   "execution_count": 1,
   "id": "0fcfb584-397b-4308-8722-1c620ec1a9e2",
   "metadata": {},
   "outputs": [],
   "source": [
    "from netgen.occ import *\n",
    "from ngsolve import *\n",
    "from ngsolve.webgui import Draw"
   ]
  },
  {
   "cell_type": "code",
   "execution_count": 209,
   "id": "f5ccf596-45c4-4623-add7-af4a4002175d",
   "metadata": {},
   "outputs": [],
   "source": [
    "from netgen.occ import *\n",
    "\n",
    "box = Rectangle(6,2).Face()\n",
    "circ1 = Circle((1.5,0.5), 0.3).Face()\n",
    "circ2 = Circle((4.5,1.5), 0.3).Face()\n",
    "\n",
    "\n",
    "spline2 = SplineApproximation([(1.3,0.3) , (2.5, 0.8) , (3.5,1.2), (4.5,1.3), (4.2,1.6),\n",
    "                              ])\n",
    "\n",
    "wp = WorkPlane().MoveTo(1.8,0.5)\n",
    "wp.Line(0.2).Arc(.3, 15)\n",
    "wp.Line(2).Arc(0.3, 180)\n",
    "wp.Line(2).Arc(0.3, 160)\n",
    "wp.Close()\n",
    "sp1 = wp.Face()\n"
   ]
  },
  {
   "cell_type": "code",
   "execution_count": 257,
   "id": "1c824758-8f81-4962-b580-fa5e901017f7",
   "metadata": {},
   "outputs": [],
   "source": [
    "wp = WorkPlane()\n",
    "wp.RectangleC(6,2).RectangleC(0.5,0.1).Reverse().Close()\n",
    "sp1 = wp.Face()"
   ]
  },
  {
   "cell_type": "code",
   "execution_count": 258,
   "id": "8bbb8fa4-0709-4e7f-86a6-97cc48b2e13c",
   "metadata": {},
   "outputs": [
    {
     "data": {
      "application/vnd.jupyter.widget-view+json": {
       "model_id": "59e56a72c45b4128821a99cbc90eaecb",
       "version_major": 2,
       "version_minor": 0
      },
      "text/plain": [
       "WebGuiWidget(layout=Layout(height='50vh', width='100%'), value={'gui_settings': {}, 'ngsolve_version': '6.2.24…"
      ]
     },
     "metadata": {},
     "output_type": "display_data"
    }
   ],
   "source": [
    "\n",
    "\n",
    "# air = box-circ1-circ2 -sp1\n",
    "air = box - sp1\n",
    "circ1.faces.name = \"left\"\n",
    "circ2.faces.name = \"right\"\n",
    "circ2.edges.name = \"cr\"\n",
    "circ1.edges.name = \"cl\"\n",
    "air.faces.name = \"air\"\n",
    "air.edges.Min(Y).name ='bottom'\n",
    "air.edges.Max(Y).name ='top'\n",
    "air.edges.Min(X).name ='left'\n",
    "air.edges.Max(X).name ='right'\n",
    "\n",
    "shape = Glue([air])\n",
    "# Draw (shape);\n",
    "air = OCCGeometry(shape, dim=2)\n",
    "\n",
    "mesh = Mesh(air.GenerateMesh(maxh=0.1)).Curve(3)\n",
    "Draw (mesh);"
   ]
  },
  {
   "cell_type": "code",
   "execution_count": 254,
   "id": "0717d90d-9e56-427b-a076-d948092a52ae",
   "metadata": {},
   "outputs": [],
   "source": []
  },
  {
   "cell_type": "code",
   "execution_count": null,
   "id": "e72c7d39-6d09-4930-99a9-a85c1231970f",
   "metadata": {},
   "outputs": [],
   "source": []
  },
  {
   "cell_type": "code",
   "execution_count": 140,
   "id": "b0e17705-6878-4065-a14c-63f6e0e39912",
   "metadata": {},
   "outputs": [
    {
     "data": {
      "text/plain": [
       "('bottom',\n",
       " 'left',\n",
       " 'right',\n",
       " 'top',\n",
       " 'default',\n",
       " 'default',\n",
       " 'default',\n",
       " 'default',\n",
       " 'cr',\n",
       " 'cr',\n",
       " 'default',\n",
       " 'default',\n",
       " 'default',\n",
       " 'cl',\n",
       " 'cl',\n",
       " 'default',\n",
       " 'default')"
      ]
     },
     "execution_count": 140,
     "metadata": {},
     "output_type": "execute_result"
    }
   ],
   "source": [
    "mesh.GetBoundaries()"
   ]
  },
  {
   "cell_type": "code",
   "execution_count": 141,
   "id": "6b2b338f-816a-4b3b-8f53-f6b49049d6f5",
   "metadata": {},
   "outputs": [],
   "source": [
    "\n",
    "# H1-conforming finite element space\n",
    "fes = H1(mesh, order=3, dirichlet=\"top\", autoupdate=True)\n",
    "# define trial- and test-functions\n",
    "u = fes.TrialFunction()\n",
    "v = fes.TestFunction()"
   ]
  },
  {
   "cell_type": "code",
   "execution_count": 142,
   "id": "8a2b5d57-66a4-4387-a6b6-78552bf5bf95",
   "metadata": {},
   "outputs": [
    {
     "data": {
      "application/vnd.jupyter.widget-view+json": {
       "model_id": "be6312799841424a94a51e3fb2488df5",
       "version_major": 2,
       "version_minor": 0
      },
      "text/plain": [
       "WebGuiWidget(layout=Layout(height='50vh', width='100%'), value={'gui_settings': {}, 'ngsolve_version': '6.2.24…"
      ]
     },
     "metadata": {},
     "output_type": "display_data"
    },
    {
     "data": {
      "text/plain": [
       "BaseWebGuiScene"
      ]
     },
     "execution_count": 142,
     "metadata": {},
     "output_type": "execute_result"
    }
   ],
   "source": [
    "# the bilinear-form \n",
    "a = BilinearForm(grad(u)*grad(v)*dx)\n",
    "\n",
    "funcf = 50*x*y\n",
    "funcf = 50*sin(y)\n",
    "f = LinearForm(funcf*v*dx)\n",
    "\n",
    "a.Assemble()\n",
    "f.Assemble()\n",
    "Draw(funcf,mesh)\n"
   ]
  },
  {
   "cell_type": "code",
   "execution_count": 143,
   "id": "82cd9c05-9079-4453-9003-e34b10b46923",
   "metadata": {},
   "outputs": [
    {
     "data": {
      "application/vnd.jupyter.widget-view+json": {
       "model_id": "994259cc5f62413bb4c2b82571226c5f",
       "version_major": 2,
       "version_minor": 0
      },
      "text/plain": [
       "WebGuiWidget(layout=Layout(height='50vh', width='100%'), value={'gui_settings': {}, 'ngsolve_version': '6.2.24…"
      ]
     },
     "metadata": {},
     "output_type": "display_data"
    }
   ],
   "source": [
    "gfu = GridFunction(fes)\n",
    "gfu.vec.data = a.mat.Inverse(freedofs=fes.FreeDofs()) * f.vec\n",
    "Draw(gfu);\n",
    "# Draw(grad(gfu),mesh);"
   ]
  },
  {
   "cell_type": "code",
   "execution_count": null,
   "id": "d8c06c10-5713-4a5d-8c92-5bfba9e34588",
   "metadata": {},
   "outputs": [],
   "source": []
  },
  {
   "cell_type": "code",
   "execution_count": null,
   "id": "5af72066-b13b-4c95-a0b8-4454781af61b",
   "metadata": {},
   "outputs": [],
   "source": []
  },
  {
   "cell_type": "code",
   "execution_count": null,
   "id": "0bcefb46-d616-4c30-b955-eac86e3ed0c1",
   "metadata": {},
   "outputs": [],
   "source": []
  }
 ],
 "metadata": {
  "kernelspec": {
   "display_name": "Python 3 (ipykernel)",
   "language": "python",
   "name": "python3"
  },
  "language_info": {
   "codemirror_mode": {
    "name": "ipython",
    "version": 3
   },
   "file_extension": ".py",
   "mimetype": "text/x-python",
   "name": "python",
   "nbconvert_exporter": "python",
   "pygments_lexer": "ipython3",
   "version": "3.11.5"
  }
 },
 "nbformat": 4,
 "nbformat_minor": 5
}
