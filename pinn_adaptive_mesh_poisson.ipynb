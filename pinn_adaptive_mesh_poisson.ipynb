{
 "cells": [
  {
   "cell_type": "code",
   "execution_count": 125,
   "id": "4643af8c-fe01-4afd-b718-5cd2386b4fc1",
   "metadata": {},
   "outputs": [],
   "source": [
    "from netgen.occ import *\n",
    "from ngsolve import *\n",
    "from ngsolve.webgui import Draw"
   ]
  },
  {
   "cell_type": "code",
   "execution_count": 126,
   "id": "5ff88ce1-e290-4db6-8bd4-6516b4514aed",
   "metadata": {},
   "outputs": [],
   "source": [
    "def BaseShape(l, w):\n",
    "    wp1 = WorkPlane().RectangleC(l,w).Face()\n",
    "    wp2 = WorkPlane().RectangleC(w,l).Face()\n",
    "    cross = wp1 + wp2\n",
    "    return cross\n",
    "\n",
    "\n",
    "l = 0.3\n",
    "w = 1\n",
    "base = BaseShape(l, w)"
   ]
  },
  {
   "cell_type": "code",
   "execution_count": 127,
   "id": "851b3277-8759-4287-8eed-b02b2294ad03",
   "metadata": {},
   "outputs": [
    {
     "data": {
      "application/vnd.jupyter.widget-view+json": {
       "model_id": "56e7a6935c2a46428b217419ff311d6f",
       "version_major": 2,
       "version_minor": 0
      },
      "text/plain": [
       "WebGuiWidget(layout=Layout(height='50vh', width='100%'), value={'ngsolve_version': 'Netgen x.x', 'mesh_dim': 3…"
      ]
     },
     "metadata": {},
     "output_type": "display_data"
    }
   ],
   "source": [
    "offset = 3\n",
    "figure = base\n",
    "for i in range(3):\n",
    "    for j in range(3):\n",
    "        if (i+j) % 2 == 0:\n",
    "            figure += BaseShape(i,j).Move((i*offset, j*offset, 0))\n",
    "        else:\n",
    "            if i+j == 1:\n",
    "                figure += WorkPlane().Circle(1).Face().Move((i*offset, j*offset, 0))\n",
    "            else:\n",
    "                figure += base.Mirror(Axis((0, 0, 0), (1, 0, 0))\n",
    "                      ).Move((i*offset, j*offset, 0))\n",
    "\n",
    "\n",
    "geo = WorkPlane().Rectangle(5,5).Face() -  figure.Move((-2,-2,0))\n",
    "Draw(geo)\n",
    "\n",
    "geo.edges.Min(Y).name ='bottom'\n",
    "geo.edges.Max(Y).name ='top'\n",
    "geo.edges.Min(X).name ='left'\n",
    "geo.edges.Max(X).name ='right'"
   ]
  },
  {
   "cell_type": "code",
   "execution_count": 128,
   "id": "53293cf9-db24-419b-84bf-a0d35cc2bb4f",
   "metadata": {},
   "outputs": [
    {
     "data": {
      "application/vnd.jupyter.widget-view+json": {
       "model_id": "83ee73e56e024e7d814de63a62fece1d",
       "version_major": 2,
       "version_minor": 0
      },
      "text/plain": [
       "WebGuiWidget(layout=Layout(height='50vh', width='100%'), value={'ngsolve_version': 'Netgen x.x', 'mesh_dim': 3…"
      ]
     },
     "metadata": {},
     "output_type": "display_data"
    },
    {
     "data": {
      "text/plain": [
       "BaseWebGuiScene"
      ]
     },
     "execution_count": 128,
     "metadata": {},
     "output_type": "execute_result"
    }
   ],
   "source": [
    "Draw(geo, filename='./Test')"
   ]
  },
  {
   "cell_type": "code",
   "execution_count": 129,
   "id": "0b6278af-eae9-4729-853d-9d4b34059c4b",
   "metadata": {},
   "outputs": [
    {
     "data": {
      "application/vnd.jupyter.widget-view+json": {
       "model_id": "8084cec789224de18939a9f3e9c84ab2",
       "version_major": 2,
       "version_minor": 0
      },
      "text/plain": [
       "WebGuiWidget(layout=Layout(height='50vh', width='100%'), value={'gui_settings': {}, 'ngsolve_version': '6.2.24…"
      ]
     },
     "metadata": {},
     "output_type": "display_data"
    }
   ],
   "source": [
    "plate = OCCGeometry(geo, dim=2)\n",
    "mesh = Mesh(plate.GenerateMesh(maxh=0.5)).Curve(3)\n",
    "Draw (mesh);"
   ]
  },
  {
   "cell_type": "code",
   "execution_count": 130,
   "id": "d7378054-ad0e-43d7-8a51-67a2d8d08dda",
   "metadata": {},
   "outputs": [],
   "source": [
    "# H1-conforming finite element space\n",
    "fes = H1(mesh, order=1, dirichlet=\"bottom\", autoupdate=True)\n",
    "# define trial- and test-functions\n",
    "u = fes.TrialFunction()\n",
    "v = fes.TestFunction()"
   ]
  },
  {
   "cell_type": "code",
   "execution_count": 131,
   "id": "6ac22e54-02fb-411a-8697-237a0d17d77d",
   "metadata": {},
   "outputs": [
    {
     "data": {
      "application/vnd.jupyter.widget-view+json": {
       "model_id": "215bf8d2f882489392c14930a9ae8a19",
       "version_major": 2,
       "version_minor": 0
      },
      "text/plain": [
       "WebGuiWidget(layout=Layout(height='50vh', width='100%'), value={'gui_settings': {}, 'ngsolve_version': '6.2.24…"
      ]
     },
     "metadata": {},
     "output_type": "display_data"
    },
    {
     "data": {
      "text/plain": [
       "BaseWebGuiScene"
      ]
     },
     "execution_count": 131,
     "metadata": {},
     "output_type": "execute_result"
    }
   ],
   "source": [
    "# the bilinear-form \n",
    "a = BilinearForm(grad(u)*grad(v)*dx)\n",
    "\n",
    "funcf = 50*x*y\n",
    "# funcf = 50*sin(y)\n",
    "f = LinearForm(funcf*v*dx)\n",
    "\n",
    "a.Assemble()\n",
    "f.Assemble()\n",
    "Draw(funcf,mesh)\n"
   ]
  },
  {
   "cell_type": "code",
   "execution_count": 132,
   "id": "16e3659c-fcc4-49a6-b42c-3fec5287bc38",
   "metadata": {},
   "outputs": [
    {
     "data": {
      "application/vnd.jupyter.widget-view+json": {
       "model_id": "2875e874aadd4da7893f9ff97935a7c1",
       "version_major": 2,
       "version_minor": 0
      },
      "text/plain": [
       "WebGuiWidget(layout=Layout(height='50vh', width='100%'), value={'gui_settings': {}, 'ngsolve_version': '6.2.24…"
      ]
     },
     "metadata": {},
     "output_type": "display_data"
    }
   ],
   "source": [
    "gfu = GridFunction(fes)\n",
    "gfu.vec.data = a.mat.Inverse(freedofs=fes.FreeDofs()) * f.vec\n",
    "Draw(gfu);\n",
    "# Draw(grad(gfu),mesh);"
   ]
  },
  {
   "cell_type": "code",
   "execution_count": 133,
   "id": "6216e723-73a9-4fe6-9570-dec9df2ae1d4",
   "metadata": {},
   "outputs": [
    {
     "data": {
      "application/vnd.jupyter.widget-view+json": {
       "model_id": "bf42d51b915d43748ca058792efecec9",
       "version_major": 2,
       "version_minor": 0
      },
      "text/plain": [
       "WebGuiWidget(layout=Layout(height='50vh', width='100%'), value={'gui_settings': {}, 'ngsolve_version': '6.2.24…"
      ]
     },
     "metadata": {},
     "output_type": "display_data"
    }
   ],
   "source": [
    " Draw(grad(gfu),mesh);"
   ]
  },
  {
   "cell_type": "code",
   "execution_count": 134,
   "id": "52ffc68e-bd7a-4b45-804c-b2a14d03bc31",
   "metadata": {},
   "outputs": [],
   "source": [
    "import numpy as np\n",
    "import torch\n",
    "\n",
    "vertex_coordinates = []\n",
    "\n",
    "for v in mesh.vertices:\n",
    "    vertex_coordinates.append(v.point)\n",
    "\n",
    "vertex_array = torch.tensor(np.array(vertex_coordinates))"
   ]
  },
  {
   "cell_type": "code",
   "execution_count": 147,
   "id": "7c1bac1f-59f3-4067-b914-dc9f450789e6",
   "metadata": {},
   "outputs": [
    {
     "data": {
      "text/plain": [
       "torch.Size([121])"
      ]
     },
     "execution_count": 147,
     "metadata": {},
     "output_type": "execute_result"
    }
   ],
   "source": [
    "vertex_array.shape\n",
    "x = vertex_array[:, 0]\n",
    "y = vertex_array[:, 1]\n",
    "x.shape"
   ]
  },
  {
   "cell_type": "code",
   "execution_count": 148,
   "id": "a4462907-33ed-44ec-bd2f-52cc5dd8485d",
   "metadata": {},
   "outputs": [],
   "source": [
    "sol =  torch.tensor([x for x in gfu.vec])"
   ]
  },
  {
   "cell_type": "code",
   "execution_count": 149,
   "id": "2fe9b035-a7c1-4c2f-9184-fcd4bc0d4c39",
   "metadata": {},
   "outputs": [
    {
     "data": {
      "text/plain": [
       "torch.Size([121])"
      ]
     },
     "execution_count": 149,
     "metadata": {},
     "output_type": "execute_result"
    }
   ],
   "source": [
    "sol.shape"
   ]
  },
  {
   "cell_type": "code",
   "execution_count": 150,
   "id": "df86febd-ceb0-4685-84ea-6e04c49e2ed6",
   "metadata": {},
   "outputs": [
    {
     "data": {
      "text/plain": [
       "(tensor(5., dtype=torch.float64),\n",
       " tensor(5.0000, dtype=torch.float64),\n",
       " tensor(-8.2641e-16, dtype=torch.float64),\n",
       " tensor(0., dtype=torch.float64))"
      ]
     },
     "execution_count": 150,
     "metadata": {},
     "output_type": "execute_result"
    }
   ],
   "source": [
    "x.max(), y.max(), x.min(), y.min()"
   ]
  },
  {
   "cell_type": "code",
   "execution_count": 151,
   "id": "bc524119-6e12-4bfb-b447-244cb0e20a0a",
   "metadata": {},
   "outputs": [],
   "source": [
    "import torch\n",
    "import numpy as np\n",
    "from numpy.ma.core import outer\n",
    "from sys import stderr\n",
    "import torch.nn as nn\n",
    "import torch.nn.functional as F\n",
    "import torch.optim as optim\n",
    "from scipy import stats\n",
    "import matplotlib.pyplot as plt\n",
    "from matplotlib.pyplot import scatter, figure\n",
    "from matplotlib.markers import MarkerStyle\n",
    "from torch.utils.data import TensorDataset, DataLoader\n",
    "import pandas as pd\n",
    "\n",
    "import seaborn as sns\n",
    "import warnings\n",
    "warnings.filterwarnings('ignore')"
   ]
  },
  {
   "cell_type": "code",
   "execution_count": 164,
   "id": "6f6d448c-2b73-48af-a3e2-ae8eda3cbd90",
   "metadata": {},
   "outputs": [],
   "source": [
    "batch_size = 32"
   ]
  },
  {
   "cell_type": "code",
   "execution_count": 165,
   "id": "45fec23c-83e3-4c13-9f4f-52786ee7efab",
   "metadata": {},
   "outputs": [],
   "source": [
    "class FeedForward(nn.Module):\n",
    "\n",
    "    def __init__(self):\n",
    "        super(FeedForward, self).__init__()\n",
    "\n",
    "        self.optimizer = None\n",
    "        self.train_loss_history = []\n",
    "\n",
    "        # weights for the total loss function\n",
    "        self.w1 = 0.001  #loss_data\n",
    "        self.w2 = 1      #loss_interior\n",
    "        self.w3 = 5      #loss_bc\n",
    "\n",
    "        self.hidden_size = 50\n",
    "\n",
    "        # 2 input features\n",
    "        self.b1 = nn.Linear(2, self.hidden_size)\n",
    "        self.b2 = nn.Linear(self.hidden_size, self.hidden_size)\n",
    "        self.b3 = nn.Linear(self.hidden_size, 1)\n",
    "\n",
    "        # initialize weights\n",
    "        nn.init.xavier_uniform_(self.b1.weight)\n",
    "        nn.init.xavier_uniform_(self.b2.weight)\n",
    "        nn.init.xavier_uniform_(self.b3.weight)\n",
    "\n",
    "\n",
    "    def forward(self, x, y):  \n",
    "\n",
    "        xy = torch.stack((x, y), dim=1)\n",
    "\n",
    "        h1 = torch.tanh(self.b1(xy))\n",
    "        h2 = torch.tanh(self.b2(h1))\n",
    "        u = self.b3(h2)\n",
    "\n",
    "        return u\n",
    "\n",
    "    def compute_derivative(self, u, x, n):\n",
    "        # General formula to compute the n-th order derivative of u = f(x) with respect to x\n",
    "        if n == 0:\n",
    "            return u\n",
    "        else:\n",
    "            du_dx = torch.autograd.grad(u, x, torch.ones_like(u).to(device),\n",
    "                                        create_graph=True, retain_graph=True,\n",
    "                                        allow_unused=True)[0]\n",
    "\n",
    "        return self.compute_derivative(du_dx, x, n - 1)\n",
    "\n",
    "    def PDE_residual(self, x, y, use_meshgrid = False):\n",
    "        if use_meshgrid:\n",
    "\n",
    "            X,Y = torch.meshgrid(x,y)\n",
    "            xy = torch.stack((X.flatten(), Y.flatten()), dim=1)\n",
    "\n",
    "        x = torch.tensor(x, dtype=torch.float32).to(device)\n",
    "        y = torch.tensor(y, dtype=torch.float32).to(device)\n",
    "        x.requires_grad=True\n",
    "        y.requires_grad=True\n",
    "\n",
    "        u = self.forward(x, y)\n",
    "\n",
    "        d2u_dx2 = self.compute_derivative(u, x, 2)\n",
    "        d2u_dy2 = self.compute_derivative(u, y, 2)\n",
    "\n",
    "        residual = d2u_dx2 + d2u_dy2 - 50*x*y  \n",
    "        return residual\n",
    "\n",
    "\n",
    "\n",
    "    def loss_data(self):\n",
    "        input, output = next(iter(train_loader))\n",
    "        x_sol, y = input.T\n",
    "        u = output\n",
    "\n",
    "        x = torch.tensor(x, dtype=torch.float32).to(device)\n",
    "        y = torch.tensor(y, dtype=torch.float32).to(device)\n",
    "        u = torch.tensor(u, dtype=torch.float32).to(device)\n",
    "\n",
    "        u_pred = self.forward(x, y)\n",
    "        loss_data = torch.mean(torch.square(u - u_pred))\n",
    "        return loss_data\n",
    "\n",
    "    def loss_interior(self): #uniform sampling of x and y between [0,1] to pass to PDE_residual\n",
    "        #x_samples = torch.FloatTensor(self.num_samples, 1).uniform_(0, 1).flatten().to(device).requires_grad_(True)\n",
    "        #y_samples = torch.FloatTensor(self.num_samples, 1).uniform_(0, 1).flatten().to(device).requires_grad_(True)\n",
    "        res = self.PDE_residual(x, y)\n",
    "        loss_residual = torch.mean(torch.square(res)) #like rms error\n",
    "        return loss_residual\n",
    "\n",
    "    def loss_boundary_condition(self):\n",
    "\n",
    "        self.x_bottom = torch.linspace(0, 5, 100).reshape(-1)\n",
    "        self.y_bottom = torch.zeros(1, 100).reshape(-1)\n",
    "\n",
    "        bc_pred_bottom = self.forward(self.x_bottom.to(device), self.y_bottom.to(device))\n",
    "        loss_bc_bottom = torch.mean(torch.square(bc_pred_bottom))\n",
    "\n",
    "        loss_bc = loss_bc_bottom \n",
    "        return loss_bc\n",
    "\n",
    "    def compute_losses(self):  \n",
    "        loss_interior = self.loss_interior()\n",
    "        #loss_data = self.loss_data()\n",
    "        loss_data = torch.tensor([0])\n",
    "        loss_bc = self.loss_boundary_condition()\n",
    "        return loss_interior, loss_data, loss_bc\n",
    "\n",
    "\n",
    "    def closure(self):\n",
    "        self.optimizer.zero_grad()\n",
    "        loss_interior, loss_data, loss_bc = self.compute_losses() \n",
    "        total_loss = self.w1 * loss_data + self.w2 * loss_interior + self.w3 * loss_bc   \n",
    "        total_loss.backward(retain_graph=True)\n",
    "        return total_loss\n",
    "\n",
    "    def get_training_history(self):\n",
    "        loss_hist = np.array(self.train_loss_history)\n",
    "        total_loss, loss_bc, loss_interior, loss_data = np.split(loss_hist, 4, axis=1)\n",
    "        return total_loss, loss_bc, loss_interior, loss_data\n",
    " \n",
    "          \n",
    "\n",
    "    def plot_losses(self):\n",
    "            total_loss, loss_interior, loss_data, loss_bc = self.get_training_history()\n",
    "\n",
    "            plt.figure(figsize=(12, 8))\n",
    "\n",
    "            plt.subplot(2, 2, 1)\n",
    "            plt.plot(total_loss, marker=MarkerStyle('o', fillstyle='none'), color='black', label='Total Loss')\n",
    "            plt.yscale('log')\n",
    "            plt.legend()\n",
    "\n",
    "            plt.subplot(2, 2, 2)\n",
    "            plt.plot(loss_bc, marker=MarkerStyle('o', fillstyle='none'), color='red', alpha = 0.8, label='Boundary Condition Loss')\n",
    "            plt.yscale('log')\n",
    "            plt.legend()\n",
    "\n",
    "            plt.subplot(2, 2, 3)\n",
    "            plt.plot(loss_interior, marker=MarkerStyle('o', fillstyle='none'), color='blue', alpha = 0.2, label='Interior Loss')\n",
    "            plt.yscale('log')\n",
    "            plt.legend()\n",
    "\n",
    "            plt.subplot(2, 2, 4)\n",
    "            plt.plot(loss_data, marker=MarkerStyle('o', fillstyle='none'), color='green', alpha = 0.1, label='Data Loss')\n",
    "            plt.yscale('log')\n",
    "            plt.legend()\n",
    "\n",
    "            plt.tight_layout()\n",
    "            plt.show()"
   ]
  },
  {
   "cell_type": "code",
   "execution_count": 166,
   "id": "6b0decce-4d63-44f6-8695-a81bb17eb675",
   "metadata": {},
   "outputs": [
    {
     "name": "stdout",
     "output_type": "stream",
     "text": [
      "cpu\n",
      "FeedForward(\n",
      "  (b1): Linear(in_features=2, out_features=50, bias=True)\n",
      "  (b2): Linear(in_features=50, out_features=50, bias=True)\n",
      "  (b3): Linear(in_features=50, out_features=1, bias=True)\n",
      ")\n",
      "Params: 2751\n"
     ]
    }
   ],
   "source": [
    "device = torch.device(\"cuda:0\" if torch.cuda.is_available() else \"cpu\")\n",
    "print(device)\n",
    "\n",
    "model = FeedForward().to(device)\n",
    "print(model)\n",
    "print(\"Params:\", sum(p.numel() for p in model.parameters() if p.requires_grad))"
   ]
  },
  {
   "cell_type": "code",
   "execution_count": 167,
   "id": "53b2b090-7a05-4300-9327-ffc442c44094",
   "metadata": {},
   "outputs": [],
   "source": [
    "def train(self, epochs, optimizer='Adam', **kwargs):\n",
    "        if optimizer == 'Adam':\n",
    "            self.optimizer = torch.optim.Adam(self.parameters(), **kwargs)\n",
    "\n",
    "        elif optimizer == 'L-BFGS':\n",
    "            self.optimizer = torch.optim.LBFGS(self.parameters(), **kwargs)\n",
    "\n",
    "        # Training loop\n",
    "        for epoch in range(epochs):\n",
    "            self.optimizer.step(self.closure)\n",
    "            \n",
    "            # track progress and accumulate loss data for plotting\n",
    "            if epoch % 1000 == 0:\n",
    "                loss_interior, loss_data, loss_bc = self.compute_losses()\n",
    "                total_loss = loss_interior + loss_bc \n",
    "\n",
    "                self.train_loss_history.append([total_loss.cpu().detach().numpy(),\n",
    "                                                loss_interior.cpu().detach().numpy(),\n",
    "                                                loss_bc.cpu().detach().numpy()\n",
    "                                                ])\n",
    "\n",
    "                print(f'Epoch ({optimizer}): {epoch}, Total Loss: {total_loss.detach().cpu().numpy()}')"
   ]
  },
  {
   "cell_type": "code",
   "execution_count": 169,
   "id": "a9eff3f2-6fd6-4c0e-88c0-65a7de2d6aad",
   "metadata": {},
   "outputs": [
    {
     "name": "stdout",
     "output_type": "stream",
     "text": [
      "Epoch (Adam): 0, Total Loss: 50601.23046875\n",
      "Epoch (Adam): 1000, Total Loss: 46235.171875\n",
      "Epoch (Adam): 2000, Total Loss: 42094.1953125\n",
      "Epoch (Adam): 3000, Total Loss: 39933.56640625\n",
      "Epoch (Adam): 4000, Total Loss: 38987.80078125\n",
      "Epoch (Adam): 5000, Total Loss: 38484.77734375\n",
      "Epoch (Adam): 6000, Total Loss: 36426.3046875\n",
      "Epoch (Adam): 7000, Total Loss: 33532.08203125\n",
      "Epoch (Adam): 8000, Total Loss: 31848.462890625\n",
      "Epoch (Adam): 9000, Total Loss: 30767.125\n"
     ]
    }
   ],
   "source": [
    "train(model, 10_000, lr=1e-4)"
   ]
  },
  {
   "cell_type": "code",
   "execution_count": 114,
   "id": "1d7a7ff8-4b0a-4773-9bbd-d7f7e34ea3b6",
   "metadata": {},
   "outputs": [
    {
     "data": {
      "image/png": "[encoded data removed]",
      "text/plain": [
       "<Figure size 1200x500 with 4 Axes>"
      ]
     },
     "metadata": {},
     "output_type": "display_data"
    }
   ],
   "source": [
    "x_data = torch.linspace(0,1,100)\n",
    "y_data = torch.linspace(0,1,100)\n",
    "X_data, Y_data = torch.meshgrid(x_data, y_data)\n",
    "sol = torch.sin(torch.pi * X_data) * torch.sin(torch.pi * Y_data)\n",
    "\n",
    "u_pred = model.forward(X_data.flatten().to(device), Y_data.flatten().to(device))\n",
    "u_pred = u_pred.detach().cpu().numpy()\n",
    "u_pred = u_pred.reshape(len(x_data), len(y_data))\n",
    "\n",
    "# Create a figure with one row and two columns\n",
    "fig, axs = plt.subplots(1, 2, figsize=(12, 5))\n",
    "\n",
    "# Plot the solution and noisy data\n",
    "contour_sol = axs[0].contourf(X_data, Y_data, sol, cmap='viridis')\n",
    "axs[0].set_xlabel(\"x\")\n",
    "axs[0].set_ylabel(\"y\")\n",
    "axs[0].set_title(\"exact solution\")\n",
    "fig.colorbar(contour_sol, ax=axs[0])\n",
    "\n",
    "contour_u = axs[1].contourf(X_data, Y_data, u_pred, cmap='viridis')\n",
    "axs[1].set_xlabel(\"x\")\n",
    "axs[1].set_ylabel(\"y\")\n",
    "axs[1].set_title(\"predictions\")\n",
    "fig.colorbar(contour_sol, ax=axs[1])\n",
    "plt.tight_layout()\n",
    "plt.show()"
   ]
  },
  {
   "cell_type": "code",
   "execution_count": 115,
   "id": "53b9f9e0-4ee8-437c-b519-27d9508ccb78",
   "metadata": {},
   "outputs": [
    {
     "data": {
      "image/png": "[encoded data removed]",
      "text/plain": [
       "<Figure size 1200x800 with 3 Axes>"
      ]
     },
     "metadata": {},
     "output_type": "display_data"
    }
   ],
   "source": [
    "model.plot_losses()"
   ]
  },
  {
   "cell_type": "code",
   "execution_count": null,
   "id": "d79667e8-6723-415a-95e9-61d7d90fa543",
   "metadata": {},
   "outputs": [],
   "source": []
  }
 ],
 "metadata": {
  "kernelspec": {
   "display_name": "Python 3 (ipykernel)",
   "language": "python",
   "name": "python3"
  },
  "language_info": {
   "codemirror_mode": {
    "name": "ipython",
    "version": 3
   },
   "file_extension": ".py",
   "mimetype": "text/x-python",
   "name": "python",
   "nbconvert_exporter": "python",
   "pygments_lexer": "ipython3",
   "version": "3.12.3"
  }
 },
 "nbformat": 4,
 "nbformat_minor": 5
}
