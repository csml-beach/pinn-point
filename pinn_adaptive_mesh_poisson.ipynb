{
 "cells": [
  {
   "cell_type": "code",
   "execution_count": 1,
   "id": "4643af8c-fe01-4afd-b718-5cd2386b4fc1",
   "metadata": {},
   "outputs": [],
   "source": [
    "from netgen.occ import *\n",
    "from ngsolve import *\n",
    "from ngsolve.webgui import Draw"
   ]
  },
  {
   "cell_type": "code",
   "execution_count": 2,
   "id": "5ff88ce1-e290-4db6-8bd4-6516b4514aed",
   "metadata": {},
   "outputs": [],
   "source": [
    "def BaseShape(l, w):\n",
    "    wp1 = WorkPlane().RectangleC(l,w).Face()\n",
    "    wp2 = WorkPlane().RectangleC(w,l).Face()\n",
    "    cross = wp1 + wp2\n",
    "    return cross\n",
    "\n",
    "\n",
    "l = 0.3\n",
    "w = 1\n",
    "base = BaseShape(l, w)"
   ]
  },
  {
   "cell_type": "code",
   "execution_count": 3,
   "id": "851b3277-8759-4287-8eed-b02b2294ad03",
   "metadata": {},
   "outputs": [
    {
     "data": {
      "application/vnd.jupyter.widget-view+json": {
       "model_id": "4c6f14e60e3e4863b1d3cd71cdbe33c3",
       "version_major": 2,
       "version_minor": 0
      },
      "text/plain": [
       "WebGuiWidget(layout=Layout(height='50vh', width='100%'), value={'ngsolve_version': 'Netgen x.x', 'mesh_dim': 3…"
      ]
     },
     "metadata": {},
     "output_type": "display_data"
    }
   ],
   "source": [
    "offset = 3\n",
    "figure = base\n",
    "for i in range(3):\n",
    "    for j in range(3):\n",
    "        if (i+j) % 2 == 0:\n",
    "            figure += BaseShape(i,j).Move((i*offset, j*offset, 0))\n",
    "        else:\n",
    "            if i+j == 1:\n",
    "                figure += WorkPlane().Circle(1).Face().Move((i*offset, j*offset, 0))\n",
    "            else:\n",
    "                figure += base.Mirror(Axis((0, 0, 0), (1, 0, 0))\n",
    "                      ).Move((i*offset, j*offset, 0))\n",
    "\n",
    "\n",
    "geo = WorkPlane().Rectangle(5,5).Face() -  figure.Move((-2,-2,0))\n",
    "Draw(geo)\n",
    "\n",
    "geo.edges.Min(Y).name ='bottom'\n",
    "geo.edges.Max(Y).name ='top'\n",
    "geo.edges.Min(X).name ='left'\n",
    "geo.edges.Max(X).name ='right'"
   ]
  },
  {
   "cell_type": "code",
   "execution_count": null,
   "id": "53293cf9-db24-419b-84bf-a0d35cc2bb4f",
   "metadata": {},
   "outputs": [],
   "source": []
  },
  {
   "cell_type": "code",
   "execution_count": 8,
   "id": "0b6278af-eae9-4729-853d-9d4b34059c4b",
   "metadata": {},
   "outputs": [
    {
     "data": {
      "application/vnd.jupyter.widget-view+json": {
       "model_id": "2688d63fb6384ccc8dfeb0e9f9a03a5d",
       "version_major": 2,
       "version_minor": 0
      },
      "text/plain": [
       "WebGuiWidget(layout=Layout(height='50vh', width='100%'), value={'gui_settings': {}, 'ngsolve_version': '6.2.24…"
      ]
     },
     "metadata": {},
     "output_type": "display_data"
    }
   ],
   "source": [
    "plate = OCCGeometry(geo, dim=2)\n",
    "mesh = Mesh(plate.GenerateMesh(maxh=0.5)).Curve(3)\n",
    "Draw (mesh);"
   ]
  },
  {
   "cell_type": "code",
   "execution_count": null,
   "id": "d7378054-ad0e-43d7-8a51-67a2d8d08dda",
   "metadata": {},
   "outputs": [],
   "source": []
  },
  {
   "cell_type": "code",
   "execution_count": 48,
   "id": "6ac22e54-02fb-411a-8697-237a0d17d77d",
   "metadata": {},
   "outputs": [],
   "source": [
    "def solve_FEM():\n",
    "    # H1-conforming finite element space\n",
    "    fes = H1(mesh, order=1, dirichlet=\"bottom\", autoupdate=True)\n",
    "    # define trial- and test-functions\n",
    "    u = fes.TrialFunction()\n",
    "    v = fes.TestFunction()\n",
    "    \n",
    "    # the bilinear-form \n",
    "    a = BilinearForm(grad(u)*grad(v)*dx)\n",
    "    \n",
    "    funcf = 1*x*y\n",
    "    # funcf = 50*sin(y)\n",
    "    f = LinearForm(funcf*v*dx)\n",
    "    \n",
    "    a.Assemble()\n",
    "    f.Assemble()\n",
    "    # Draw(funcf,mesh)\n",
    "    gfu = GridFunction(fes)\n",
    "    gfu.vec.data = a.mat.Inverse(freedofs=fes.FreeDofs()) * f.vec\n",
    "    return gfu, fes\n"
   ]
  },
  {
   "cell_type": "code",
   "execution_count": 62,
   "id": "16e3659c-fcc4-49a6-b42c-3fec5287bc38",
   "metadata": {},
   "outputs": [
    {
     "data": {
      "application/vnd.jupyter.widget-view+json": {
       "model_id": "21c1ef52465c4c2e8f32405159fc78cf",
       "version_major": 2,
       "version_minor": 0
      },
      "text/plain": [
       "WebGuiWidget(layout=Layout(height='50vh', width='100%'), value={'gui_settings': {}, 'ngsolve_version': '6.2.24…"
      ]
     },
     "metadata": {},
     "output_type": "display_data"
    }
   ],
   "source": [
    "gfu, fes = solve_FEM()\n",
    "Draw(gfu,mesh);\n",
    "# Draw(grad(gfu),mesh);"
   ]
  },
  {
   "cell_type": "code",
   "execution_count": null,
   "id": "6216e723-73a9-4fe6-9570-dec9df2ae1d4",
   "metadata": {},
   "outputs": [],
   "source": [
    " # Draw(grad(gfu),mesh);"
   ]
  },
  {
   "cell_type": "code",
   "execution_count": 13,
   "id": "52ffc68e-bd7a-4b45-804c-b2a14d03bc31",
   "metadata": {},
   "outputs": [],
   "source": [
    "import numpy as np\n",
    "import torch\n",
    "\n",
    "def export_vertex_coordinates(mesh):\n",
    "    vertex_coordinates = []\n",
    "    \n",
    "    for v in mesh.vertices:\n",
    "        vertex_coordinates.append(v.point)\n",
    "    \n",
    "    vertex_array = torch.tensor(np.array(vertex_coordinates))\n",
    "    return vertex_array"
   ]
  },
  {
   "cell_type": "code",
   "execution_count": 33,
   "id": "7c1bac1f-59f3-4067-b914-dc9f450789e6",
   "metadata": {},
   "outputs": [
    {
     "name": "stdout",
     "output_type": "stream",
     "text": [
      "tensor([[0.0000, 5.0000],\n",
      "        [0.0000, 0.0000],\n",
      "        [3.0000, 5.0000],\n",
      "        [3.0000, 3.0000],\n",
      "        [5.0000, 3.0000],\n",
      "        [5.0000, 0.0000],\n",
      "        [0.5000, 0.5000]])\n"
     ]
    }
   ],
   "source": [
    "vertex_array = export_vertex_coordinates(mesh).to(torch.float32)\n",
    "\n",
    "mesh_x , mesh_y = vertex_array.T\n",
    "print(vertex_array[:7])"
   ]
  },
  {
   "cell_type": "code",
   "execution_count": 35,
   "id": "2fe9b035-a7c1-4c2f-9184-fcd4bc0d4c39",
   "metadata": {},
   "outputs": [
    {
     "data": {
      "text/plain": [
       "(torch.Size([121]), torch.Size([121, 2]))"
      ]
     },
     "execution_count": 35,
     "metadata": {},
     "output_type": "execute_result"
    }
   ],
   "source": [
    "solution_array =  torch.tensor([x for x in gfu.vec])\n",
    "solution_array.shape, vertex_array.shape"
   ]
  },
  {
   "cell_type": "code",
   "execution_count": 36,
   "id": "bc524119-6e12-4bfb-b447-244cb0e20a0a",
   "metadata": {},
   "outputs": [],
   "source": [
    "import torch\n",
    "import numpy as np\n",
    "from numpy.ma.core import outer\n",
    "from sys import stderr\n",
    "import torch.nn as nn\n",
    "import torch.nn.functional as F\n",
    "import torch.optim as optim\n",
    "from scipy import stats\n",
    "import matplotlib.pyplot as plt\n",
    "from matplotlib.pyplot import scatter, figure\n",
    "from matplotlib.markers import MarkerStyle\n",
    "from torch.utils.data import TensorDataset, DataLoader\n",
    "import pandas as pd\n",
    "\n",
    "import seaborn as sns\n",
    "import warnings\n",
    "warnings.filterwarnings('ignore')"
   ]
  },
  {
   "cell_type": "code",
   "execution_count": 37,
   "id": "6f6d448c-2b73-48af-a3e2-ae8eda3cbd90",
   "metadata": {},
   "outputs": [],
   "source": [
    "batch_size = 4\n",
    "# Step 2: Create a TensorDataset\n",
    "dataset = TensorDataset(vertex_array, solution_array.reshape(-1,1))\n",
    "\n",
    "# Step 3: Create a DataLoader\n",
    "dataloader = DataLoader(dataset, batch_size=batch_size, shuffle=True)"
   ]
  },
  {
   "cell_type": "code",
   "execution_count": 38,
   "id": "45fec23c-83e3-4c13-9f4f-52786ee7efab",
   "metadata": {},
   "outputs": [],
   "source": [
    "class FeedForward(nn.Module):\n",
    "\n",
    "    def __init__(self, mesh_x, mesh_y):\n",
    "        super(FeedForward, self).__init__()\n",
    "\n",
    "        self.optimizer = None\n",
    "        self.train_loss_history = []\n",
    "\n",
    "        # weights for the total loss function\n",
    "        self.w_data     = 0.01  #loss_data\n",
    "        self.w_interior = 1      #loss_interior\n",
    "        self.w_bc       = 5      #loss_bc\n",
    "\n",
    "        self.hidden_size = 50\n",
    "\n",
    "        # 2 input features\n",
    "        self.b1 = nn.Linear(2, self.hidden_size)\n",
    "        self.b2 = nn.Linear(self.hidden_size, self.hidden_size)\n",
    "        self.b3 = nn.Linear(self.hidden_size, 1)\n",
    "\n",
    "        # initialize weights\n",
    "        nn.init.xavier_uniform_(self.b1.weight)\n",
    "        nn.init.xavier_uniform_(self.b2.weight)\n",
    "        nn.init.xavier_uniform_(self.b3.weight)\n",
    "\n",
    "        self.mesh_x  = mesh_x\n",
    "        self.mesh_y  = mesh_y\n",
    "\n",
    "\n",
    "    def forward(self, x, y):  \n",
    "\n",
    "        xy = torch.stack((x, y), dim=1)\n",
    "\n",
    "        h1 = torch.tanh(self.b1(xy))\n",
    "        h2 = torch.tanh(self.b2(h1))\n",
    "        u = self.b3(h2)\n",
    "\n",
    "        return u\n",
    "\n",
    "    def compute_derivative(self, u, x, n):\n",
    "        # General formula to compute the n-th order derivative of u = f(x) with respect to x\n",
    "        if n == 0:\n",
    "            return u\n",
    "        else:\n",
    "            du_dx = torch.autograd.grad(u, x, torch.ones_like(u).to(device),\n",
    "                                        create_graph=True, retain_graph=True,\n",
    "                                        allow_unused=True)[0]\n",
    "\n",
    "        return self.compute_derivative(du_dx, x, n - 1)\n",
    "\n",
    "    def PDE_residual(self, x, y, use_meshgrid = False):\n",
    "        if use_meshgrid:\n",
    "\n",
    "            X,Y = torch.meshgrid(x,y)\n",
    "            xy = torch.stack((X.flatten(), Y.flatten()), dim=1)\n",
    "\n",
    "        x = torch.tensor(x, dtype=torch.float32).to(device)\n",
    "        y = torch.tensor(y, dtype=torch.float32).to(device)\n",
    "        x.requires_grad=True\n",
    "        y.requires_grad=True\n",
    "\n",
    "        u = self.forward(x, y)\n",
    "\n",
    "        d2u_dx2 = self.compute_derivative(u, x, 2)\n",
    "        d2u_dy2 = self.compute_derivative(u, y, 2)\n",
    "\n",
    "        residual = d2u_dx2 + d2u_dy2 + x*y  \n",
    "        return residual\n",
    "\n",
    "\n",
    "\n",
    "    def loss_data(self):\n",
    "        # xy, u = next(iter(dataloader))\n",
    "        torch.manual_seed(42)\n",
    "        idx = torch.randint(len(dataset), (10,))\n",
    "        xy, u = dataset[idx]\n",
    "        \n",
    "        x, y  = xy.unbind(axis=1)\n",
    "\n",
    "        x = torch.tensor(x, dtype=torch.float32).to(device)\n",
    "        y = torch.tensor(y, dtype=torch.float32).to(device)\n",
    "        u = torch.tensor(u, dtype=torch.float32).to(device)\n",
    "\n",
    "        u_pred = self.forward(x, y)\n",
    "        loss_data = torch.mean(torch.square(u - u_pred))\n",
    "        return loss_data\n",
    "\n",
    "    def loss_interior(self): #uniform sampling of x and y between [0,1] to pass to PDE_residual\n",
    "        #x_samples = torch.FloatTensor(self.num_samples, 1).uniform_(0, 1).flatten().to(device).requires_grad_(True)\n",
    "        #y_samples = torch.FloatTensor(self.num_samples, 1).uniform_(0, 1).flatten().to(device).requires_grad_(True)\n",
    "        res = self.PDE_residual(self.mesh_x, self.mesh_y)\n",
    "        loss_residual = torch.mean(torch.square(res)) #like rms error\n",
    "        return loss_residual\n",
    "\n",
    "    def loss_boundary_condition(self):\n",
    "\n",
    "        self.x_bottom = torch.linspace(0, 5, 300).reshape(-1)\n",
    "        self.y_bottom = torch.zeros(1, 300).reshape(-1)\n",
    "\n",
    "        bc_pred_bottom = self.forward(self.x_bottom.to(device), self.y_bottom.to(device))\n",
    "        loss_bc_bottom = torch.mean(torch.square(bc_pred_bottom))\n",
    "\n",
    "        loss_bc = loss_bc_bottom \n",
    "        return loss_bc\n",
    "\n",
    "    def compute_losses(self):  \n",
    "        loss_interior = self.loss_interior()\n",
    "        loss_data = self.loss_data()\n",
    "        loss_bc = self.loss_boundary_condition()\n",
    "        return loss_interior, loss_data, loss_bc\n",
    "\n",
    "\n",
    "    def closure(self):\n",
    "        self.optimizer.zero_grad()\n",
    "        loss_interior, loss_data, loss_bc = self.compute_losses() \n",
    "        total_loss = self.w_data * loss_data + self.w_interior * loss_interior + self.w_bc * loss_bc   \n",
    "        total_loss.backward(retain_graph=True)\n",
    "        return total_loss\n",
    "\n",
    "    def get_training_history(self):\n",
    "        loss_hist = np.array(self.train_loss_history)\n",
    "        total_loss, loss_bc, loss_interior, loss_data = np.split(loss_hist, 4, axis=1)\n",
    "        return total_loss, loss_bc, loss_interior, loss_data\n",
    " \n",
    "          \n",
    "\n",
    "    def plot_losses(self):\n",
    "            total_loss, loss_interior, loss_data, loss_bc = self.get_training_history()\n",
    "\n",
    "            plt.figure(figsize=(12, 8))\n",
    "\n",
    "            plt.subplot(2, 2, 1)\n",
    "            plt.plot(total_loss, marker=MarkerStyle('o', fillstyle='none'), color='black', label='Total Loss')\n",
    "            plt.yscale('log')\n",
    "            plt.legend()\n",
    "\n",
    "            plt.subplot(2, 2, 2)\n",
    "            plt.plot(loss_bc, marker=MarkerStyle('o', fillstyle='none'), color='red', alpha = 0.8, label='Boundary Condition Loss')\n",
    "            plt.yscale('log')\n",
    "            plt.legend()\n",
    "\n",
    "            plt.subplot(2, 2, 3)\n",
    "            plt.plot(loss_interior, marker=MarkerStyle('o', fillstyle='none'), color='blue', alpha = 0.2, label='Interior Loss')\n",
    "            plt.yscale('log')\n",
    "            plt.legend()\n",
    "\n",
    "            plt.subplot(2, 2, 4)\n",
    "            plt.plot(loss_data, marker=MarkerStyle('o', fillstyle='none'), color='green', alpha = 0.1, label='Data Loss')\n",
    "            plt.yscale('log')\n",
    "            plt.legend()\n",
    "\n",
    "            plt.tight_layout()\n",
    "            plt.show()"
   ]
  },
  {
   "cell_type": "code",
   "execution_count": 42,
   "id": "6b0decce-4d63-44f6-8695-a81bb17eb675",
   "metadata": {},
   "outputs": [
    {
     "name": "stdout",
     "output_type": "stream",
     "text": [
      "cpu\n",
      "FeedForward(\n",
      "  (b1): Linear(in_features=2, out_features=50, bias=True)\n",
      "  (b2): Linear(in_features=50, out_features=50, bias=True)\n",
      "  (b3): Linear(in_features=50, out_features=1, bias=True)\n",
      ")\n",
      "Params: 2751\n"
     ]
    }
   ],
   "source": [
    "device = torch.device(\"cuda:0\" if torch.cuda.is_available() else \"cpu\")\n",
    "print(device)\n",
    "\n",
    "model = FeedForward(mesh_x=mesh_x, mesh_y = mesh_y).to(device)\n",
    "print(model)\n",
    "print(\"Params:\", sum(p.numel() for p in model.parameters() if p.requires_grad))"
   ]
  },
  {
   "cell_type": "code",
   "execution_count": 43,
   "id": "53b2b090-7a05-4300-9327-ffc442c44094",
   "metadata": {},
   "outputs": [],
   "source": [
    "def train(self, epochs, optimizer='Adam', **kwargs):\n",
    "        if optimizer == 'Adam':\n",
    "            self.optimizer = torch.optim.Adam(self.parameters(), **kwargs)\n",
    "\n",
    "        elif optimizer == 'L-BFGS':\n",
    "            self.optimizer = torch.optim.LBFGS(self.parameters(), **kwargs)\n",
    "\n",
    "        # Training loop\n",
    "        for epoch in range(epochs):\n",
    "            self.optimizer.step(self.closure)\n",
    "            \n",
    "            # track progress and accumulate loss data for plotting\n",
    "            if epoch % 1000 == 0:\n",
    "                loss_interior, loss_data, loss_bc = self.compute_losses()\n",
    "                total_loss = loss_interior + loss_bc \n",
    "\n",
    "                self.train_loss_history.append([total_loss.cpu().detach().numpy(),\n",
    "                                                loss_interior.cpu().detach().numpy(),\n",
    "                                                loss_bc.cpu().detach().numpy()\n",
    "                                                ])\n",
    "\n",
    "                print(f'Epoch ({optimizer}): {epoch}, Total Loss: {total_loss.detach().cpu().numpy()}')"
   ]
  },
  {
   "cell_type": "code",
   "execution_count": 126,
   "id": "a9eff3f2-6fd6-4c0e-88c0-65a7de2d6aad",
   "metadata": {},
   "outputs": [
    {
     "name": "stdout",
     "output_type": "stream",
     "text": [
      "Epoch (Adam): 0, Total Loss: 0.7348029613494873\n",
      "Epoch (Adam): 1000, Total Loss: 0.011160021647810936\n",
      "Epoch (Adam): 2000, Total Loss: 0.005287996027618647\n"
     ]
    }
   ],
   "source": [
    "model.w_interior = 1\n",
    "model.w_bc = 1\n",
    "train(model, 3_000, lr=1e-4)"
   ]
  },
  {
   "cell_type": "code",
   "execution_count": 127,
   "id": "dc02dea4-27de-407b-a599-1f4d923bac3f",
   "metadata": {},
   "outputs": [
    {
     "data": {
      "text/plain": [
       "(401, 1)"
      ]
     },
     "execution_count": 127,
     "metadata": {},
     "output_type": "execute_result"
    }
   ],
   "source": [
    "u_pred = model.forward(mesh_x.to(device).float(), mesh_y.to(device).float())\n",
    "u_pred = u_pred.detach().cpu().numpy()\n",
    "u_pred.shape"
   ]
  },
  {
   "cell_type": "code",
   "execution_count": 128,
   "id": "c844ca2f-f289-4743-8af0-f80b95d56e71",
   "metadata": {},
   "outputs": [
    {
     "data": {
      "application/vnd.jupyter.widget-view+json": {
       "model_id": "c7cbc9c5baa94ab993a88882b2d88488",
       "version_major": 2,
       "version_minor": 0
      },
      "text/plain": [
       "WebGuiWidget(layout=Layout(height='50vh', width='100%'), value={'gui_settings': {}, 'ngsolve_version': '6.2.24…"
      ]
     },
     "metadata": {},
     "output_type": "display_data"
    },
    {
     "data": {
      "application/vnd.jupyter.widget-view+json": {
       "model_id": "ce260374cf9142068ad53770b9d70431",
       "version_major": 2,
       "version_minor": 0
      },
      "text/plain": [
       "WebGuiWidget(layout=Layout(height='50vh', width='100%'), value={'gui_settings': {}, 'ngsolve_version': '6.2.24…"
      ]
     },
     "metadata": {},
     "output_type": "display_data"
    },
    {
     "data": {
      "text/plain": [
       "BaseWebGuiScene"
      ]
     },
     "execution_count": 128,
     "metadata": {},
     "output_type": "execute_result"
    }
   ],
   "source": [
    "u_plot = GridFunction(fes)\n",
    "u_plot.vec[:] = BaseVector(u_pred.flatten())\n",
    "Draw(u_plot)\n",
    "Draw(gfu)"
   ]
  },
  {
   "cell_type": "code",
   "execution_count": 129,
   "id": "53b9f9e0-4ee8-437c-b519-27d9508ccb78",
   "metadata": {},
   "outputs": [],
   "source": [
    "# model.plot_losses()"
   ]
  },
  {
   "cell_type": "code",
   "execution_count": 130,
   "id": "d79667e8-6723-415a-95e9-61d7d90fa543",
   "metadata": {},
   "outputs": [],
   "source": [
    "res = model.PDE_residual(model.mesh_x, model.mesh_y).detach().numpy()"
   ]
  },
  {
   "cell_type": "code",
   "execution_count": 131,
   "id": "5c66dec2-54ea-4cb6-a360-c0b17b87e02f",
   "metadata": {},
   "outputs": [
    {
     "data": {
      "application/vnd.jupyter.widget-view+json": {
       "model_id": "a8ec5a190f9a48bb97618ecab1f80888",
       "version_major": 2,
       "version_minor": 0
      },
      "text/plain": [
       "WebGuiWidget(layout=Layout(height='50vh', width='100%'), value={'gui_settings': {}, 'ngsolve_version': '6.2.24…"
      ]
     },
     "metadata": {},
     "output_type": "display_data"
    },
    {
     "data": {
      "text/plain": [
       "BaseWebGuiScene"
      ]
     },
     "execution_count": 131,
     "metadata": {},
     "output_type": "execute_result"
    }
   ],
   "source": [
    "residuals = GridFunction(fes)\n",
    "residuals.vec[:] = BaseVector(res.flatten())\n",
    "err = (residuals)*(residuals)\n",
    "eta2 = Integrate(err, mesh, VOL, element_wise=True)\n",
    "maxerr = max(eta2)\n",
    "Draw(err, mesh)"
   ]
  },
  {
   "cell_type": "code",
   "execution_count": 132,
   "id": "bafe3b26-a1b6-4207-958c-149d6c7a96ee",
   "metadata": {},
   "outputs": [],
   "source": [
    "# mark for refinement (vectorized alternative)\n",
    "mesh.ngmesh.Elements2D().NumPy()[\"refine\"] = eta2.NumPy() > 0.25*maxerr\n",
    "mesh.Refine()"
   ]
  },
  {
   "cell_type": "code",
   "execution_count": 133,
   "id": "376157c0-bca8-4b4e-936f-fc7041fe8fc0",
   "metadata": {},
   "outputs": [
    {
     "data": {
      "application/vnd.jupyter.widget-view+json": {
       "model_id": "896e1f241c54497dbe15683c1f0ed02f",
       "version_major": 2,
       "version_minor": 0
      },
      "text/plain": [
       "WebGuiWidget(layout=Layout(height='50vh', width='100%'), value={'gui_settings': {}, 'ngsolve_version': '6.2.24…"
      ]
     },
     "metadata": {},
     "output_type": "display_data"
    },
    {
     "data": {
      "text/plain": [
       "BaseWebGuiScene"
      ]
     },
     "execution_count": 133,
     "metadata": {},
     "output_type": "execute_result"
    }
   ],
   "source": [
    "Draw(mesh)"
   ]
  },
  {
   "cell_type": "code",
   "execution_count": 134,
   "id": "7cd95b0e-e8e3-41e1-a28e-549349d786e7",
   "metadata": {},
   "outputs": [],
   "source": [
    "mesh_x, mesh_y = export_vertex_coordinates(mesh).unbind(1)\n",
    "model.mesh_x = mesh_x\n",
    "model.mesh_y = mesh_y"
   ]
  },
  {
   "cell_type": "code",
   "execution_count": 135,
   "id": "361d6d0e-aa69-4639-8c75-9810ae98c305",
   "metadata": {},
   "outputs": [],
   "source": [
    "gfu, fes = solve_FEM()"
   ]
  },
  {
   "cell_type": "code",
   "execution_count": null,
   "id": "44605279-ea1e-48e1-9e7d-4b7fdbddfc9f",
   "metadata": {},
   "outputs": [],
   "source": []
  },
  {
   "cell_type": "code",
   "execution_count": null,
   "id": "b955f8dc-dbc2-47c9-b7cc-19691780c44b",
   "metadata": {},
   "outputs": [],
   "source": []
  }
 ],
 "metadata": {
  "kernelspec": {
   "display_name": "Python 3 (ipykernel)",
   "language": "python",
   "name": "python3"
  },
  "language_info": {
   "codemirror_mode": {
    "name": "ipython",
    "version": 3
   },
   "file_extension": ".py",
   "mimetype": "text/x-python",
   "name": "python",
   "nbconvert_exporter": "python",
   "pygments_lexer": "ipython3",
   "version": "3.11.5"
  }
 },
 "nbformat": 4,
 "nbformat_minor": 5
}
