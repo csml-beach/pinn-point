{
 "cells": [
  {
   "cell_type": "code",
   "execution_count": 46,
   "id": "0fcfb584-397b-4308-8722-1c620ec1a9e2",
   "metadata": {},
   "outputs": [],
   "source": [
    "from netgen.occ import *\n",
    "from ngsolve import *\n",
    "from ngsolve.webgui import Draw\n",
    "import numpy as np\n",
    "import torch"
   ]
  },
  {
   "cell_type": "code",
   "execution_count": 2,
   "id": "f5ccf596-45c4-4623-add7-af4a4002175d",
   "metadata": {},
   "outputs": [],
   "source": [
    "from netgen.occ import *\n",
    "\n",
    "def BaseShape(l, w):\n",
    "    wp1 = WorkPlane().RectangleC(l,w).Face()\n",
    "    wp2 = WorkPlane().RectangleC(w,l).Face()\n",
    "    cross = wp1 + wp2\n",
    "    return cross\n",
    "\n",
    "\n",
    "l = 0.3\n",
    "w = 1\n",
    "base = BaseShape(l, w)\n"
   ]
  },
  {
   "cell_type": "code",
   "execution_count": null,
   "id": "788eff91-92af-40c8-818b-84a08f399306",
   "metadata": {},
   "outputs": [],
   "source": []
  },
  {
   "cell_type": "code",
   "execution_count": 3,
   "id": "661964eb-a830-4f82-bd70-4de124c10442",
   "metadata": {},
   "outputs": [
    {
     "data": {
      "application/vnd.jupyter.widget-view+json": {
       "model_id": "3e42c0e7539c4b8d9ba44fd2c72219f4",
       "version_major": 2,
       "version_minor": 0
      },
      "text/plain": [
       "WebGuiWidget(layout=Layout(height='50vh', width='100%'), value={'ngsolve_version': 'Netgen x.x', 'mesh_dim': 3…"
      ]
     },
     "metadata": {},
     "output_type": "display_data"
    }
   ],
   "source": [
    "offset = 3\n",
    "figure = base\n",
    "for i in range(3):\n",
    "    for j in range(3):\n",
    "        if (i+j) % 2 == 0:\n",
    "            figure += BaseShape(i,j).Move((i*offset, j*offset, 0))\n",
    "        else:\n",
    "            if i+j == 1:\n",
    "                figure += WorkPlane().Circle(1).Face().Move((i*offset, j*offset, 0))\n",
    "            else:\n",
    "                figure += base.Mirror(Axis((0, 0, 0), (1, 0, 0))\n",
    "                      ).Move((i*offset, j*offset, 0))\n",
    "\n",
    "\n",
    "geo = WorkPlane().Rectangle(5,5).Face() -  figure.Move((-2,-2,0))\n",
    "Draw(geo)\n",
    "\n",
    "geo.edges.Min(Y).name ='bottom'\n",
    "geo.edges.Max(Y).name ='top'\n",
    "geo.edges.Min(X).name ='left'\n",
    "geo.edges.Max(X).name ='right'"
   ]
  },
  {
   "cell_type": "code",
   "execution_count": 4,
   "id": "f66c19c5",
   "metadata": {},
   "outputs": [
    {
     "data": {
      "application/vnd.jupyter.widget-view+json": {
       "model_id": "39460080fef14c3daec1dfe5f37b1f55",
       "version_major": 2,
       "version_minor": 0
      },
      "text/plain": [
       "WebGuiWidget(layout=Layout(height='50vh', width='100%'), value={'ngsolve_version': 'Netgen x.x', 'mesh_dim': 3…"
      ]
     },
     "metadata": {},
     "output_type": "display_data"
    },
    {
     "data": {
      "text/plain": [
       "BaseWebGuiScene"
      ]
     },
     "execution_count": 4,
     "metadata": {},
     "output_type": "execute_result"
    }
   ],
   "source": [
    "Draw(geo, filename='./Test')"
   ]
  },
  {
   "cell_type": "code",
   "execution_count": 5,
   "id": "8bbb8fa4-0709-4e7f-86a6-97cc48b2e13c",
   "metadata": {},
   "outputs": [],
   "source": [
    "\n",
    "\n",
    "\n",
    "# shape = Glue([air])\n",
    "# # Draw (shape);\n",
    "# air = OCCGeometry(shape, dim=2)\n",
    "\n",
    "# mesh = Mesh(air.GenerateMesh(maxh=0.1)).Curve(3)\n",
    "# Draw (mesh);"
   ]
  },
  {
   "cell_type": "code",
   "execution_count": 6,
   "id": "0717d90d-9e56-427b-a076-d948092a52ae",
   "metadata": {},
   "outputs": [
    {
     "data": {
      "application/vnd.jupyter.widget-view+json": {
       "model_id": "c27e4ac19e6e43f0a103095ee7551c02",
       "version_major": 2,
       "version_minor": 0
      },
      "text/plain": [
       "WebGuiWidget(layout=Layout(height='50vh', width='100%'), value={'gui_settings': {}, 'ngsolve_version': '6.2.24…"
      ]
     },
     "metadata": {},
     "output_type": "display_data"
    }
   ],
   "source": [
    "plate = OCCGeometry(geo, dim=2)\n",
    "mesh = Mesh(plate.GenerateMesh(maxh=0.1)).Curve(3)\n",
    "Draw (mesh);"
   ]
  },
  {
   "cell_type": "code",
   "execution_count": 39,
   "id": "6b2b338f-816a-4b3b-8f53-f6b49049d6f5",
   "metadata": {},
   "outputs": [],
   "source": [
    "\n",
    "# H1-conforming finite element space\n",
    "fes = H1(mesh, order=1, dirichlet=\"bottom\", autoupdate=True)\n",
    "# define trial- and test-functions\n",
    "u = fes.TrialFunction()\n",
    "v = fes.TestFunction()"
   ]
  },
  {
   "cell_type": "code",
   "execution_count": 40,
   "id": "8a2b5d57-66a4-4387-a6b6-78552bf5bf95",
   "metadata": {},
   "outputs": [
    {
     "data": {
      "application/vnd.jupyter.widget-view+json": {
       "model_id": "8c250f7c969246b190c30a33cd747687",
       "version_major": 2,
       "version_minor": 0
      },
      "text/plain": [
       "WebGuiWidget(layout=Layout(height='50vh', width='100%'), value={'gui_settings': {}, 'ngsolve_version': '6.2.24…"
      ]
     },
     "metadata": {},
     "output_type": "display_data"
    },
    {
     "data": {
      "text/plain": [
       "BaseWebGuiScene"
      ]
     },
     "execution_count": 40,
     "metadata": {},
     "output_type": "execute_result"
    }
   ],
   "source": [
    "# the bilinear-form \n",
    "a = BilinearForm(grad(u)*grad(v)*dx)\n",
    "\n",
    "funcf = 50*x*y\n",
    "# funcf = 50*sin(y)\n",
    "f = LinearForm(funcf*v*dx)\n",
    "\n",
    "a.Assemble()\n",
    "f.Assemble()\n",
    "Draw(funcf,mesh)\n"
   ]
  },
  {
   "cell_type": "code",
   "execution_count": 41,
   "id": "82cd9c05-9079-4453-9003-e34b10b46923",
   "metadata": {},
   "outputs": [
    {
     "data": {
      "application/vnd.jupyter.widget-view+json": {
       "model_id": "066a936d783e4a9bb79a28c00d4c011f",
       "version_major": 2,
       "version_minor": 0
      },
      "text/plain": [
       "WebGuiWidget(layout=Layout(height='50vh', width='100%'), value={'gui_settings': {}, 'ngsolve_version': '6.2.24…"
      ]
     },
     "metadata": {},
     "output_type": "display_data"
    }
   ],
   "source": [
    "gfu = GridFunction(fes)\n",
    "gfu.vec.data = a.mat.Inverse(freedofs=fes.FreeDofs()) * f.vec\n",
    "Draw(gfu);\n",
    "# Draw(grad(gfu),mesh);"
   ]
  },
  {
   "cell_type": "code",
   "execution_count": 42,
   "id": "d8c06c10-5713-4a5d-8c92-5bfba9e34588",
   "metadata": {},
   "outputs": [],
   "source": [
    "# for x in gfu.vec:\n",
    "#     print(x)"
   ]
  },
  {
   "cell_type": "code",
   "execution_count": 48,
   "id": "5af72066-b13b-4c95-a0b8-4454781af61b",
   "metadata": {},
   "outputs": [],
   "source": [
    "sol =  torch.tensor([x for x in gfu.vec])"
   ]
  },
  {
   "cell_type": "code",
   "execution_count": 49,
   "id": "3f9103ab-6623-47cf-ad98-7b9c3d2ab869",
   "metadata": {},
   "outputs": [
    {
     "data": {
      "text/plain": [
       "torch.Size([2195])"
      ]
     },
     "execution_count": 49,
     "metadata": {},
     "output_type": "execute_result"
    }
   ],
   "source": [
    "sol.shape"
   ]
  },
  {
   "cell_type": "code",
   "execution_count": 50,
   "id": "0bcefb46-d616-4c30-b955-eac86e3ed0c1",
   "metadata": {},
   "outputs": [
    {
     "name": "stdout",
     "output_type": "stream",
     "text": [
      "torch.Size([2195, 2])\n"
     ]
    }
   ],
   "source": [
    "\n",
    "vertex_coordinates = []\n",
    "\n",
    "for v in mesh.vertices:\n",
    "    vertex_coordinates.append(v.point)\n",
    "\n",
    "vertex_array = torch.tensor(np.array(vertex_coordinates))\n",
    "print(vertex_array.shape)\n"
   ]
  },
  {
   "cell_type": "code",
   "execution_count": null,
   "id": "591ec905-c5c8-40e4-a6f3-6efa00179345",
   "metadata": {},
   "outputs": [],
   "source": []
  },
  {
   "cell_type": "code",
   "execution_count": null,
   "id": "542b1ed2",
   "metadata": {},
   "outputs": [],
   "source": []
  },
  {
   "cell_type": "code",
   "execution_count": null,
   "id": "eaa051b1-f1b5-47b0-8c62-86e5fdbb8f3e",
   "metadata": {},
   "outputs": [],
   "source": []
  }
 ],
 "metadata": {
  "kernelspec": {
   "display_name": "Python 3 (ipykernel)",
   "language": "python",
   "name": "python3"
  },
  "language_info": {
   "codemirror_mode": {
    "name": "ipython",
    "version": 3
   },
   "file_extension": ".py",
   "mimetype": "text/x-python",
   "name": "python",
   "nbconvert_exporter": "python",
   "pygments_lexer": "ipython3",
   "version": "3.11.5"
  }
 },
 "nbformat": 4,
 "nbformat_minor": 5
}
