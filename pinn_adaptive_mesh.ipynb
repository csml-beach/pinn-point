{
 "cells": [
  {
   "cell_type": "code",
   "execution_count": 1,
   "id": "d0a0339c-7318-4908-92f2-98f51f64a778",
   "metadata": {},
   "outputs": [],
   "source": [
    "from netgen.occ import *\n",
    "from ngsolve import *\n",
    "from ngsolve.webgui import Draw\n",
    "import os"
   ]
  },
  {
   "cell_type": "code",
   "execution_count": 2,
   "id": "ab84f099-a0e8-4a7f-8dd6-c6768721ec58",
   "metadata": {},
   "outputs": [],
   "source": [
    "def BaseShape(l, w):\n",
    "    wp1 = WorkPlane().RectangleC(l,w).Face()\n",
    "    wp2 = WorkPlane().RectangleC(w,l).Face()\n",
    "    cross = wp1 + wp2\n",
    "    return cross\n",
    "\n",
    "\n",
    "l = 0.3\n",
    "w = 1\n",
    "base = BaseShape(l, w)"
   ]
  },
  {
   "cell_type": "code",
   "execution_count": 3,
   "id": "90845573-6461-4c11-9e36-43bc798d3c1f",
   "metadata": {},
   "outputs": [
    {
     "data": {
      "application/vnd.jupyter.widget-view+json": {
       "model_id": "3f3f4277f4b348f48cb2ffa7395cf793",
       "version_major": 2,
       "version_minor": 0
      },
      "text/plain": [
       "WebGuiWidget(layout=Layout(height='50vh', width='100%'), value={'ngsolve_version': 'Netgen x.x', 'mesh_dim': 3…"
      ]
     },
     "metadata": {},
     "output_type": "display_data"
    }
   ],
   "source": [
    "offset = 3\n",
    "figure = base\n",
    "for i in range(3):\n",
    "    for j in range(3):\n",
    "        if (i+j) % 2 == 0:\n",
    "            figure += BaseShape(i,j).Move((i*offset, j*offset, 0))\n",
    "        else:\n",
    "            if i+j == 1:\n",
    "                figure += WorkPlane().Circle(1).Face().Move((i*offset, j*offset, 0))\n",
    "            else:\n",
    "                figure += base.Mirror(Axis((0, 0, 0), (1, 0, 0))\n",
    "                      ).Move((i*offset, j*offset, 0))\n",
    "\n",
    "\n",
    "geo = WorkPlane().Rectangle(5,5).Face() -  figure.Move((-2,-2,0))\n",
    "Draw(geo)\n",
    "\n",
    "geo.edges.Min(Y).name ='bottom'\n",
    "geo.edges.Max(Y).name ='top'\n",
    "geo.edges.Min(X).name ='left'\n",
    "geo.edges.Max(X).name ='right'"
   ]
  },
  {
   "cell_type": "code",
   "execution_count": 4,
   "id": "cc1b30df-1c7f-4c3b-9a25-1af85635cc59",
   "metadata": {},
   "outputs": [
    {
     "data": {
      "application/vnd.jupyter.widget-view+json": {
       "model_id": "c38bbc2368d142f1b847ed57614a33b0",
       "version_major": 2,
       "version_minor": 0
      },
      "text/plain": [
       "WebGuiWidget(layout=Layout(height='50vh', width='100%'), value={'gui_settings': {}, 'ngsolve_version': '6.2.24…"
      ]
     },
     "metadata": {},
     "output_type": "display_data"
    }
   ],
   "source": [
    "plate = OCCGeometry(geo, dim=2)\n",
    "mesh = Mesh(plate.GenerateMesh(maxh=0.5)).Curve(3)\n",
    "Draw (mesh);"
   ]
  },
  {
   "cell_type": "code",
   "execution_count": 5,
   "id": "a229113a-454b-4e3f-b29c-7e6225058043",
   "metadata": {},
   "outputs": [],
   "source": [
    "def solve_FEM():\n",
    "    # H1-conforming finite element space\n",
    "    fes = H1(mesh, order=1, dirichlet=\"bottom\", autoupdate=True)\n",
    "    # define trial- and test-functions\n",
    "    u = fes.TrialFunction()\n",
    "    v = fes.TestFunction()\n",
    "    \n",
    "    # the bilinear-form \n",
    "    a = BilinearForm(grad(u)*grad(v)*dx)\n",
    "    \n",
    "    funcf = 1*x*y\n",
    "    # funcf = 50*sin(y)\n",
    "    f = LinearForm(funcf*v*dx)\n",
    "    \n",
    "    a.Assemble()\n",
    "    f.Assemble()\n",
    "    # Draw(funcf,mesh)\n",
    "    gfu = GridFunction(fes)\n",
    "    gfu.vec.data = a.mat.Inverse(freedofs=fes.FreeDofs()) * f.vec\n",
    "    return gfu, fes"
   ]
  },
  {
   "cell_type": "code",
   "execution_count": 6,
   "id": "48b92c57-7f58-4e6c-a885-098180f80294",
   "metadata": {},
   "outputs": [
    {
     "data": {
      "application/vnd.jupyter.widget-view+json": {
       "model_id": "7c27ed20957a4de6852c881423d10c71",
       "version_major": 2,
       "version_minor": 0
      },
      "text/plain": [
       "WebGuiWidget(layout=Layout(height='50vh', width='100%'), value={'gui_settings': {}, 'ngsolve_version': '6.2.24…"
      ]
     },
     "metadata": {},
     "output_type": "display_data"
    }
   ],
   "source": [
    "gfu, fes = solve_FEM()\n",
    "Draw(gfu,mesh);\n",
    "# Draw(grad(gfu),mesh);"
   ]
  },
  {
   "cell_type": "code",
   "execution_count": 7,
   "id": "43add6ac-ff70-4249-b48b-23ceda10c431",
   "metadata": {},
   "outputs": [],
   "source": [
    "# Draw(grad(gfu),mesh);"
   ]
  },
  {
   "cell_type": "code",
   "execution_count": 8,
   "id": "2cb68b0f-00b6-4f91-83a3-af57cc7b7440",
   "metadata": {},
   "outputs": [],
   "source": [
    "import numpy as np\n",
    "import torch\n",
    "\n",
    "def export_vertex_coordinates(mesh):\n",
    "    vertex_coordinates = []\n",
    "    \n",
    "    for v in mesh.vertices:\n",
    "        vertex_coordinates.append(v.point)\n",
    "    \n",
    "    vertex_array = torch.tensor(np.array(vertex_coordinates))\n",
    "    return vertex_array"
   ]
  },
  {
   "cell_type": "code",
   "execution_count": 9,
   "id": "5a50d2b7-fa93-4468-888b-d3c8abe3e0ea",
   "metadata": {},
   "outputs": [
    {
     "name": "stdout",
     "output_type": "stream",
     "text": [
      "tensor([[0.0000, 5.0000],\n",
      "        [0.0000, 0.0000],\n",
      "        [3.0000, 5.0000],\n",
      "        [3.0000, 3.0000],\n",
      "        [5.0000, 3.0000],\n",
      "        [5.0000, 0.0000],\n",
      "        [0.5000, 0.5000]])\n"
     ]
    }
   ],
   "source": [
    "vertex_array = export_vertex_coordinates(mesh).to(torch.float32)\n",
    "\n",
    "mesh_x , mesh_y = vertex_array.T\n",
    "print(vertex_array[:7])"
   ]
  },
  {
   "cell_type": "code",
   "execution_count": 10,
   "id": "d07dba3e-4259-4ba4-ad79-7aa0997238e2",
   "metadata": {},
   "outputs": [
    {
     "data": {
      "text/plain": [
       "(torch.Size([121]), torch.Size([121, 2]))"
      ]
     },
     "execution_count": 10,
     "metadata": {},
     "output_type": "execute_result"
    }
   ],
   "source": [
    "solution_array =  torch.tensor([x for x in gfu.vec])\n",
    "solution_array.shape, vertex_array.shape"
   ]
  },
  {
   "cell_type": "code",
   "execution_count": 11,
   "id": "08d9234e-a88b-466c-a17b-64dc7c91d3b7",
   "metadata": {},
   "outputs": [],
   "source": [
    "import torch\n",
    "import numpy as np\n",
    "from numpy.ma.core import outer\n",
    "from sys import stderr\n",
    "import torch.nn as nn\n",
    "import torch.nn.functional as F\n",
    "import torch.optim as optim\n",
    "from scipy import stats\n",
    "import matplotlib.pyplot as plt\n",
    "from matplotlib.pyplot import scatter, figure\n",
    "from matplotlib.markers import MarkerStyle\n",
    "from torch.utils.data import TensorDataset, DataLoader\n",
    "import pandas as pd\n",
    "\n",
    "import seaborn as sns\n",
    "import warnings\n",
    "warnings.filterwarnings('ignore')"
   ]
  },
  {
   "cell_type": "code",
   "execution_count": 12,
   "id": "e68fae97-eb66-4ad4-b5b8-4806000f11a3",
   "metadata": {},
   "outputs": [
    {
     "data": {
      "text/plain": [
       "(tensor([0., 5.]), tensor([63.9474]))"
      ]
     },
     "execution_count": 12,
     "metadata": {},
     "output_type": "execute_result"
    }
   ],
   "source": [
    "batch_size = 4\n",
    "# Step 2: Create a TensorDataset\n",
    "dataset = TensorDataset(vertex_array, solution_array.reshape(-1,1))\n",
    "\n",
    "# Step 3: Create a DataLoader\n",
    "dataloader = DataLoader(dataset, batch_size=batch_size, shuffle=True)\n",
    "dataset[0]"
   ]
  },
  {
   "cell_type": "code",
   "execution_count": 13,
   "id": "bd122736-66c0-45a1-b482-c554b39c1289",
   "metadata": {},
   "outputs": [],
   "source": [
    "class FeedForward(nn.Module):\n",
    "\n",
    "    def __init__(self, mesh_x, mesh_y):\n",
    "        super(FeedForward, self).__init__()\n",
    "\n",
    "        self.optimizer = None\n",
    "        self.train_loss_history = []\n",
    "\n",
    "        # weights for the total loss function\n",
    "        self.w_data     = 0.01   #loss_data\n",
    "        self.w_interior = 1      #loss_interior\n",
    "        self.w_bc       = 5      #loss_bc\n",
    "\n",
    "        self.hidden_size = 50\n",
    "\n",
    "        # 2 input features\n",
    "        self.b1 = nn.Linear(2, self.hidden_size)\n",
    "        self.b2 = nn.Linear(self.hidden_size, self.hidden_size)\n",
    "        self.b3 = nn.Linear(self.hidden_size, 1)\n",
    "\n",
    "        # initialize weights\n",
    "        nn.init.xavier_uniform_(self.b1.weight)\n",
    "        nn.init.xavier_uniform_(self.b2.weight)\n",
    "        nn.init.xavier_uniform_(self.b3.weight)\n",
    "\n",
    "        self.mesh_x  = mesh_x\n",
    "        self.mesh_y  = mesh_y\n",
    " \n",
    "    def forward(self, x, y):  \n",
    "\n",
    "        xy = torch.stack((x, y), dim=1)\n",
    "\n",
    "        h1 = torch.tanh(self.b1(xy))\n",
    "        h2 = torch.tanh(self.b2(h1))\n",
    "        u = self.b3(h2)\n",
    "\n",
    "        return u\n",
    "\n",
    "    \n",
    "    def compute_derivative(self, u, x, n):\n",
    "        # General formula to compute the n-th order derivative of u = f(x) with respect to x\n",
    "        if n == 0:\n",
    "            return u\n",
    "        else:\n",
    "            du_dx = torch.autograd.grad(u, x, torch.ones_like(u).to(device),\n",
    "                                        create_graph=True, retain_graph=True,\n",
    "                                        allow_unused=True)[0]\n",
    "\n",
    "        return self.compute_derivative(du_dx, x, n - 1)\n",
    "\n",
    "    \n",
    "    def PDE_residual(self, x, y, use_meshgrid = False):\n",
    "        if use_meshgrid:\n",
    "\n",
    "            X,Y = torch.meshgrid(x,y)\n",
    "            xy = torch.stack((X.flatten(), Y.flatten()), dim=1)\n",
    "\n",
    "        x = torch.tensor(x, dtype=torch.float32).to(device)\n",
    "        y = torch.tensor(y, dtype=torch.float32).to(device)\n",
    "        x.requires_grad=True\n",
    "        y.requires_grad=True\n",
    "\n",
    "        u = self.forward(x, y)\n",
    "\n",
    "        d2u_dx2 = self.compute_derivative(u, x, 2)\n",
    "        d2u_dy2 = self.compute_derivative(u, y, 2)\n",
    "\n",
    "        residual = d2u_dx2 + d2u_dy2 + x*y  \n",
    "        return residual\n",
    "\n",
    "    \n",
    "    def loss_data(self):\n",
    "        # xy, u = next(iter(dataloader))\n",
    "        torch.manual_seed(42)\n",
    "        idx = torch.randint(len(dataset), (10,))\n",
    "        xy, u = dataset[idx]\n",
    "        \n",
    "        x, y  = xy.unbind(axis=1)\n",
    "\n",
    "        x = torch.tensor(x, dtype=torch.float32).to(device)\n",
    "        y = torch.tensor(y, dtype=torch.float32).to(device)\n",
    "        u = torch.tensor(u, dtype=torch.float32).to(device)\n",
    "\n",
    "        u_pred = self.forward(x, y)\n",
    "        loss_data = torch.mean(torch.square(u - u_pred))\n",
    "        return loss_data\n",
    "\n",
    "    \n",
    "    def loss_interior(self): #uniform sampling of x and y between [0,1] to pass to PDE_residual\n",
    "        #x_samples = torch.FloatTensor(self.num_samples, 1).uniform_(0, 1).flatten().to(device).requires_grad_(True)\n",
    "        #y_samples = torch.FloatTensor(self.num_samples, 1).uniform_(0, 1).flatten().to(device).requires_grad_(True)\n",
    "        res = self.PDE_residual(self.mesh_x, self.mesh_y)\n",
    "        loss_residual = torch.mean(torch.square(res)) #like rms error\n",
    "        return loss_residual\n",
    "        \n",
    "\n",
    "    def loss_boundary_condition(self):\n",
    "\n",
    "        self.x_bottom = torch.linspace(0, 5, 300).reshape(-1)\n",
    "        self.y_bottom = torch.zeros(1, 300).reshape(-1)\n",
    "\n",
    "        bc_pred_bottom = self.forward(self.x_bottom.to(device), self.y_bottom.to(device))\n",
    "        loss_bc_bottom = torch.mean(torch.square(bc_pred_bottom))\n",
    "\n",
    "        loss_bc = loss_bc_bottom \n",
    "        return loss_bc\n",
    "\n",
    "    \n",
    "    def compute_losses(self):  \n",
    "        loss_interior = self.loss_interior()\n",
    "        loss_data = self.loss_data()\n",
    "        loss_bc = self.loss_boundary_condition()\n",
    "        return loss_interior, loss_data, loss_bc\n",
    "\n",
    "\n",
    "    def closure(self):\n",
    "        self.optimizer.zero_grad()\n",
    "        loss_interior, loss_data, loss_bc = self.compute_losses() \n",
    "        total_loss = self.w_data * loss_data + self.w_interior * loss_interior + self.w_bc * loss_bc   \n",
    "        total_loss.backward(retain_graph=True)\n",
    "        return total_loss\n",
    "\n",
    "    \n",
    "    def get_training_history(self):\n",
    "        loss_hist = np.array(self.train_loss_history)\n",
    "        total_loss, loss_bc, loss_interior, loss_data = np.split(loss_hist, 4, axis=1)\n",
    "        return total_loss, loss_bc, loss_interior, loss_data\n",
    "\n",
    "    \n",
    "    def plot_losses(self):\n",
    "            total_loss, loss_interior, loss_data, loss_bc = self.get_training_history()\n",
    "\n",
    "            plt.figure(figsize=(8, 6))\n",
    "\n",
    "            plt.subplot(2, 2, 1)\n",
    "            plt.plot(total_loss, marker=MarkerStyle('o', fillstyle='none'), color='black', label='Total Loss')\n",
    "            plt.yscale('log')\n",
    "            plt.legend()\n",
    "\n",
    "            plt.subplot(2, 2, 2)\n",
    "            plt.plot(loss_bc, marker=MarkerStyle('o', fillstyle='none'), color='red', alpha = 0.8, label='Boundary Condition Loss')\n",
    "            plt.yscale('log')\n",
    "            plt.legend()\n",
    "\n",
    "            plt.subplot(2, 2, 3)\n",
    "            plt.plot(loss_interior, marker=MarkerStyle('o', fillstyle='none'), color='blue', alpha = 0.2, label='Interior Loss')\n",
    "            plt.yscale('log')\n",
    "            plt.legend()\n",
    "\n",
    "            plt.subplot(2, 2, 4)\n",
    "            plt.plot(loss_data, marker=MarkerStyle('o', fillstyle='none'), color='green', alpha = 0.1, label='Data Loss')\n",
    "            plt.yscale('log')\n",
    "            plt.legend()\n",
    "\n",
    "            plt.tight_layout()\n",
    "            plt.show()"
   ]
  },
  {
   "cell_type": "code",
   "execution_count": 14,
   "id": "8e40b13a-4643-40a8-838b-9b5c3b85b34b",
   "metadata": {},
   "outputs": [
    {
     "name": "stdout",
     "output_type": "stream",
     "text": [
      "cpu\n",
      "FeedForward(\n",
      "  (b1): Linear(in_features=2, out_features=50, bias=True)\n",
      "  (b2): Linear(in_features=50, out_features=50, bias=True)\n",
      "  (b3): Linear(in_features=50, out_features=1, bias=True)\n",
      ")\n",
      "Params: 2751\n"
     ]
    }
   ],
   "source": [
    "device = torch.device(\"cuda:0\" if torch.cuda.is_available() else \"cpu\")\n",
    "print(device)\n",
    "\n",
    "model = FeedForward(mesh_x=mesh_x, mesh_y = mesh_y).to(device)\n",
    "print(model)\n",
    "print(\"Params:\", sum(p.numel() for p in model.parameters() if p.requires_grad))"
   ]
  },
  {
   "cell_type": "code",
   "execution_count": 15,
   "id": "784682ed-22b6-49d8-ab72-27d73aa96aba",
   "metadata": {},
   "outputs": [],
   "source": [
    "def train(self, epochs, optimizer='Adam', w_interior=1, w_bc=1, w_data=0.01, **kwargs):\n",
    "        if optimizer == 'Adam':\n",
    "            self.optimizer = torch.optim.Adam(self.parameters(), **kwargs)\n",
    "\n",
    "        elif optimizer == 'L-BFGS':\n",
    "            self.optimizer = torch.optim.LBFGS(self.parameters(), **kwargs)\n",
    "\n",
    "        # Training loop\n",
    "        for epoch in range(epochs):\n",
    "            self.optimizer.step(self.closure)\n",
    "            \n",
    "            # track progress and accumulate loss data for plotting\n",
    "            if epoch % 1000 == 0:\n",
    "                loss_interior, loss_data, loss_bc = self.compute_losses()\n",
    "                total_loss = loss_interior + loss_bc \n",
    "\n",
    "                self.train_loss_history.append([total_loss.cpu().detach().numpy(),\n",
    "                                                loss_interior.cpu().detach().numpy(),\n",
    "                                                loss_data.cpu().detach().numpy(),\n",
    "                                                loss_bc.cpu().detach().numpy(),\n",
    "                                                \n",
    "                                                ])\n",
    "\n",
    "                print(f'Epoch ({optimizer}): {epoch}, Total Loss: {total_loss.detach().cpu().numpy()}')"
   ]
  },
  {
   "cell_type": "code",
   "execution_count": 28,
   "id": "ee0b6305-85f6-4fb2-8993-32f69fe6d054",
   "metadata": {},
   "outputs": [],
   "source": [
    "def plot_model_error(model, mesh, gfu):\n",
    "    u_pred = model.forward(model.mesh_x.to(device).float(), model.mesh_y.to(device).float())\n",
    "    u_pred = u_pred.detach().cpu().numpy()\n",
    "    u_plot = GridFunction(fes)\n",
    "    u_plot.vec[:] = BaseVector(u_pred.flatten())\n",
    "    #\n",
    "\n",
    "    directory = './images'\n",
    "    if not os.path.exists(directory): # Create the directory if it does not exist \n",
    "        os.makedirs(directory)\n",
    "    \n",
    "    #Draw((u_plot - gfu)*(u_plot - gfu), mesh, filename=directory + '/error.png')\n",
    "    Draw((u_plot - gfu)*(u_plot - gfu), mesh) #report the integral sum of error as a number keep history\n",
    "    \n",
    "    import ngsolve.internal as ngsint\n",
    "    ngsint.viewoptions.drawoutline=0 # triangle outline\n",
    "    ngsint.SnapShot(filename = './abcde.jpg')\n",
    "    "
   ]
  },
  {
   "cell_type": "code",
   "execution_count": 29,
   "id": "61ddc3d2-e259-4ce5-b613-a74361cea5d2",
   "metadata": {},
   "outputs": [],
   "source": [
    "import ngsolve.internal"
   ]
  },
  {
   "cell_type": "code",
   "execution_count": 30,
   "id": "e6168325-4b4e-416d-bd60-d32fede7ad12",
   "metadata": {},
   "outputs": [
    {
     "data": {
      "application/vnd.jupyter.widget-view+json": {
       "model_id": "84aadcccff534e8d877499a400513864",
       "version_major": 2,
       "version_minor": 0
      },
      "text/plain": [
       "WebGuiWidget(layout=Layout(height='50vh', width='100%'), value={'gui_settings': {}, 'ngsolve_version': '6.2.24…"
      ]
     },
     "metadata": {},
     "output_type": "display_data"
    }
   ],
   "source": [
    "plot_model_error(model, mesh, gfu)"
   ]
  },
  {
   "cell_type": "code",
   "execution_count": null,
   "id": "d94d7be3-7922-42e6-ba9b-78415d9d1f27",
   "metadata": {
    "scrolled": true
   },
   "outputs": [],
   "source": [
    "def refine_mesh(model, fe_space, mesh):\n",
    "    res = model.PDE_residual(model.mesh_x, model.mesh_y).detach().numpy()\n",
    "    residuals = GridFunction(fe_space)\n",
    "    residuals.vec[:] = BaseVector(res.flatten())\n",
    "    residuals = (residuals)*(residuals) #integrate not element-wise but over entire domain to get one number\n",
    "    eta2 = Integrate(residuals, mesh, VOL, element_wise=True)\n",
    "    maxerr = max(eta2)\n",
    "    Draw(residuals, mesh)\n",
    "    \n",
    "    # mark for refinement (vectorized alternative)\n",
    "    mesh.ngmesh.Elements2D().NumPy()[\"refine\"] = eta2.NumPy() > 0.25*maxerr\n",
    "    mesh.Refine()\n",
    "    \n",
    "    mesh_x, mesh_y = export_vertex_coordinates(mesh).unbind(1)\n",
    "    model.mesh_x = mesh_x\n",
    "    model.mesh_y = mesh_y"
   ]
  },
  {
   "cell_type": "code",
   "execution_count": null,
   "id": "d1321291-eeff-4957-8abe-efbc8bb18e9e",
   "metadata": {},
   "outputs": [],
   "source": [
    "def adapt_mesh_and_train(model, mesh):\n",
    "    fe_solution, fe_space = solve_FEM()\n",
    "    train(model, 3_000, lr=1e-3)\n",
    "    plot_model_error(model, mesh, fe_solution)\n",
    "    refine_mesh(model, fe_space, mesh)\n",
    "\n"
   ]
  },
  {
   "cell_type": "code",
   "execution_count": null,
   "id": "7b181954-3c1a-459d-aec6-f5ad810c26df",
   "metadata": {},
   "outputs": [],
   "source": [
    "for iteration in range(5):\n",
    "    adapt_mesh_and_train(model, mesh)"
   ]
  },
  {
   "cell_type": "code",
   "execution_count": null,
   "id": "ef5df1c3-0d38-4261-9bfb-7c862bbb34e2",
   "metadata": {},
   "outputs": [],
   "source": [
    "model.plot_losses()"
   ]
  },
  {
   "cell_type": "code",
   "execution_count": null,
   "id": "4d1241c9-7efc-4b4a-aa81-c62089ea57ec",
   "metadata": {},
   "outputs": [],
   "source": []
  }
 ],
 "metadata": {
  "kernelspec": {
   "display_name": "Python 3 (ipykernel)",
   "language": "python",
   "name": "python3"
  },
  "language_info": {
   "codemirror_mode": {
    "name": "ipython",
    "version": 3
   },
   "file_extension": ".py",
   "mimetype": "text/x-python",
   "name": "python",
   "nbconvert_exporter": "python",
   "pygments_lexer": "ipython3",
   "version": "3.12.3"
  }
 },
 "nbformat": 4,
 "nbformat_minor": 5
}
